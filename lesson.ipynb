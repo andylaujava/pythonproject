{
 "cells": [
  {
   "cell_type": "code",
   "execution_count": null,
   "metadata": {},
   "outputs": [
    {
     "ename": "",
     "evalue": "",
     "output_type": "error",
     "traceback": [
      "\u001b[1;31m執行具有 'c:\\Users\\beethoven\\Documents\\python386\\python.exe' 的儲存格需要 ipykernel 套件。\n",
      "\u001b[1;31mRun the following command to install 'ipykernel' into the Python environment. \n",
      "\u001b[1;31mCommand: 'c:/Users/beethoven/Documents/python386/python.exe -m pip install ipykernel -U --user --force-reinstall'"
     ]
    }
   ],
   "source": [
    "a=100\n",
    "b=50\n",
    "f'aaaa{a}ssssss{b}'"
   ]
  },
  {
   "cell_type": "code",
   "execution_count": null,
   "metadata": {},
   "outputs": [
    {
     "ename": "",
     "evalue": "",
     "output_type": "error",
     "traceback": [
      "\u001b[1;31m執行具有 'c:\\Users\\beethoven\\Documents\\python386\\python.exe' 的儲存格需要 ipykernel 套件。\n",
      "\u001b[1;31mRun the following command to install 'ipykernel' into the Python environment. \n",
      "\u001b[1;31mCommand: 'c:/Users/beethoven/Documents/python386/python.exe -m pip install ipykernel -U --user --force-reinstall'"
     ]
    }
   ],
   "source": [
    "a=100\n",
    "b=50\n",
    "f'qqq{b}ccc{a}xxx'"
   ]
  },
  {
   "cell_type": "code",
   "execution_count": 3,
   "metadata": {},
   "outputs": [
    {
     "data": {
      "text/plain": [
       "80"
      ]
     },
     "execution_count": 3,
     "metadata": {},
     "output_type": "execute_result"
    }
   ],
   "source": [
    "90-10"
   ]
  },
  {
   "cell_type": "code",
   "execution_count": 4,
   "metadata": {},
   "outputs": [],
   "source": [
    "_a=90-10"
   ]
  },
  {
   "cell_type": "code",
   "execution_count": 5,
   "metadata": {},
   "outputs": [
    {
     "data": {
      "text/plain": [
       "80"
      ]
     },
     "execution_count": 5,
     "metadata": {},
     "output_type": "execute_result"
    }
   ],
   "source": [
    "_a=90-10\n",
    "_a"
   ]
  },
  {
   "cell_type": "code",
   "execution_count": 6,
   "metadata": {},
   "outputs": [
    {
     "data": {
      "text/plain": [
       "1267650600228229401496703205376"
      ]
     },
     "execution_count": 6,
     "metadata": {},
     "output_type": "execute_result"
    }
   ],
   "source": [
    "2**100"
   ]
  },
  {
   "cell_type": "code",
   "execution_count": 7,
   "metadata": {},
   "outputs": [
    {
     "data": {
      "text/plain": [
       "'good150'"
      ]
     },
     "execution_count": 7,
     "metadata": {},
     "output_type": "execute_result"
    }
   ],
   "source": [
    "a=100\n",
    "b=50\n",
    "f\"good{a+b}\""
   ]
  },
  {
   "cell_type": "code",
   "execution_count": 8,
   "metadata": {},
   "outputs": [
    {
     "data": {
      "text/plain": [
       "'good100moring50sir600'"
      ]
     },
     "execution_count": 8,
     "metadata": {},
     "output_type": "execute_result"
    }
   ],
   "source": [
    "a=100\n",
    "b=50\n",
    "f'good{a}moring{b}sir{a+b*10}'"
   ]
  },
  {
   "cell_type": "code",
   "execution_count": 9,
   "metadata": {},
   "outputs": [
    {
     "name": "stdout",
     "output_type": "stream",
     "text": [
      "hello!beethoven\n",
      "歡迎光臨\n"
     ]
    }
   ],
   "source": [
    "name=input(\"請輸入您的姓名\")\n",
    "print(f\"hello!{name}\\n歡迎光臨\")"
   ]
  },
  {
   "cell_type": "code",
   "execution_count": 10,
   "metadata": {},
   "outputs": [
    {
     "name": "stdout",
     "output_type": "stream",
     "text": [
      "<class 'int'>\n",
      "False\n",
      "第一個數字是:10\n",
      "第二個數字是:20\n",
      "加總的結果是:30\n"
     ]
    }
   ],
   "source": [
    "first=int(input('請輸入第一個數字'))\n",
    "second=int(input('請輸入第二個數字'))\n",
    "print(type(first))\n",
    "print(isinstance(first,str))\n",
    "print(f'第一個數字是:{first}')\n",
    "print(f'第二個數字是:{second}')\n",
    "print(f'加總的結果是:{first+second}')\n"
   ]
  },
  {
   "cell_type": "code",
   "execution_count": 13,
   "metadata": {},
   "outputs": [
    {
     "name": "stdout",
     "output_type": "stream",
     "text": [
      "<class 'int'>\n",
      "False\n",
      "第一個數字是:38\n",
      "第二個數字是:100\n",
      "加總的結果是:138\n"
     ]
    }
   ],
   "source": [
    "first=eval(input('請輸入第一個數字'))\n",
    "second=eval(input('請輸入第二個數字'))\n",
    "print(type(first))\n",
    "print(isinstance(first,str))\n",
    "print(f'第一個數字是:{first}')\n",
    "print(f'第二個數字是:{second}')\n",
    "print(f'加總的結果是:{first+second}')"
   ]
  },
  {
   "cell_type": "code",
   "execution_count": 25,
   "metadata": {},
   "outputs": [
    {
     "name": "stdout",
     "output_type": "stream",
     "text": [
      "商 0.44 餘數: 11\n"
     ]
    }
   ],
   "source": [
    "n=int(input('請輸入被除數(整數):'))\n",
    "m=int(input('請輸入除數(整數,不可為0):'))\n",
    "print('商',n/m,'餘數:',n%m)\n"
   ]
  },
  {
   "cell_type": "code",
   "execution_count": 26,
   "metadata": {},
   "outputs": [
    {
     "data": {
      "text/plain": [
       "30"
      ]
     },
     "execution_count": 26,
     "metadata": {},
     "output_type": "execute_result"
    }
   ],
   "source": [
    "m=20\n",
    "m+=10\n",
    "m"
   ]
  },
  {
   "cell_type": "code",
   "execution_count": 30,
   "metadata": {},
   "outputs": [
    {
     "data": {
      "text/plain": [
       "60"
      ]
     },
     "execution_count": 30,
     "metadata": {},
     "output_type": "execute_result"
    }
   ],
   "source": [
    "sum=0\n",
    "n=eval(input(\"請輸入第一個數字:\"))\n",
    "sum+=n\n",
    "n=eval(input(\"請輸入第二個數字\"))\n",
    "sum+=n\n",
    "n=eval(input(\"請輸入第三個數字\"))\n",
    "sum+=n\n",
    "sum"
   ]
  },
  {
   "cell_type": "code",
   "execution_count": 37,
   "metadata": {},
   "outputs": [
    {
     "data": {
      "text/plain": [
       "30.000000000000004"
      ]
     },
     "execution_count": 37,
     "metadata": {},
     "output_type": "execute_result"
    }
   ],
   "source": [
    "math.degrees(math.asin(2.5/5))"
   ]
  },
  {
   "cell_type": "code",
   "execution_count": 38,
   "metadata": {},
   "outputs": [
    {
     "data": {
      "text/plain": [
       "False"
      ]
     },
     "execution_count": 38,
     "metadata": {},
     "output_type": "execute_result"
    }
   ],
   "source": [
    "3<3"
   ]
  },
  {
   "cell_type": "code",
   "execution_count": 1,
   "metadata": {},
   "outputs": [
    {
     "name": "stdout",
     "output_type": "stream",
     "text": [
      "本期大樂透電腦選號如下:\n",
      "5  11  12  17  21  28  30  特別號: 30\n",
      "\n",
      "本期大樂透電腦選號如下:\n",
      "34  8  9  10  14  17  18  特別號: 18\n",
      "\n",
      "本期大樂透電腦選號如下:\n",
      "34  6  7  41  43  27  29  特別號: 29\n",
      "\n",
      "本期大樂透電腦選號如下:\n",
      "32  1  35  9  10  47  17  特別號: 17\n",
      "\n",
      "本期大樂透電腦選號如下:\n",
      "4  40  9  12  15  49  25  特別號: 25\n",
      "\n",
      "本期大樂透電腦選號如下:\n",
      "39  9  10  44  49  24  30  特別號: 30\n",
      "\n",
      "本期大樂透電腦選號如下:\n",
      "34  38  40  17  19  21  31  特別號: 31\n",
      "\n",
      "本期大樂透電腦選號如下:\n",
      "32  1  37  12  45  48  31  特別號: 31\n",
      "\n",
      "本期大樂透電腦選號如下:\n",
      "39  42  11  12  47  19  23  特別號: 23\n",
      "\n",
      "本期大樂透電腦選號如下:\n",
      "33  2  35  44  14  15  16  特別號: 16\n",
      "\n"
     ]
    }
   ],
   "source": [
    "import random\n",
    "\n",
    "def lottery():\n",
    "    lottery=set()\n",
    "    while len(lottery)<=6:\n",
    "        lottery.add(random.randint(1,49))\n",
    "\n",
    "    print(\"本期大樂透電腦選號如下:\")\n",
    "    for i in lottery:\n",
    "        print(i,end='  ')\n",
    "\n",
    "    lotList=list(lottery)\n",
    "    print(f\"特別號: {lotList[-1]}\")\n",
    "    print()\n",
    "\n",
    "grp_num=int(input(\"請輸入本期大樂透電腦選號的組數:\"))\n",
    "for i in range(grp_num):\n",
    "    lottery()"
   ]
  },
  {
   "cell_type": "code",
   "execution_count": 4,
   "metadata": {},
   "outputs": [
    {
     "name": "stdout",
     "output_type": "stream",
     "text": [
      "01_賴伊凡 {'國文': 79, '英文': 64, '數學': 59, '自然': 79, '社會': 87}\n",
      "02_張雯嬌 {'國文': 62, '英文': 98, '數學': 94, '自然': 64, '社會': 64}\n",
      "03_張濬昇 {'國文': 85, '英文': 83, '數學': 56, '自然': 76, '社會': 99}\n",
      "04_謝明學 {'國文': 52, '英文': 81, '數學': 60, '自然': 100, '社會': 67}\n",
      "05_劉俊孝 {'國文': 66, '英文': 73, '數學': 80, '自然': 50, '社會': 53}\n",
      "06_彭千祐 {'國文': 65, '英文': 70, '數學': 59, '自然': 78, '社會': 64}\n",
      "07_賴奕旭 {'國文': 67, '英文': 82, '數學': 60, '自然': 66, '社會': 80}\n",
      "08_劉冠亨 {'國文': 50, '英文': 59, '數學': 67, '自然': 81, '社會': 86}\n",
      "09_黃基展 {'國文': 95, '英文': 82, '數學': 64, '自然': 74, '社會': 96}\n",
      "10_楊凱丞 {'國文': 81, '英文': 91, '數學': 56, '自然': 78, '社會': 69}\n",
      "11_張文嘉 {'國文': 53, '英文': 73, '數學': 55, '自然': 61, '社會': 58}\n",
      "12_鄭丞芸 {'國文': 83, '英文': 97, '數學': 54, '自然': 69, '社會': 65}\n",
      "13_翟品皓 {'國文': 68, '英文': 61, '數學': 98, '自然': 92, '社會': 56}\n",
      "14_邱秀慧 {'國文': 81, '英文': 93, '數學': 70, '自然': 83, '社會': 68}\n",
      "15_陳瑞涓 {'國文': 68, '英文': 72, '數學': 78, '自然': 96, '社會': 55}\n",
      "16_陳彥廷 {'國文': 69, '英文': 86, '數學': 89, '自然': 100, '社會': 90}\n",
      "17_鄭興耀 {'國文': 62, '英文': 70, '數學': 63, '自然': 64, '社會': 75}\n",
      "18_温國焜 {'國文': 69, '英文': 64, '數學': 76, '自然': 81, '社會': 82}\n",
      "19_高家成 {'國文': 85, '英文': 58, '數學': 56, '自然': 65, '社會': 80}\n",
      "20_鄒騰沅 {'國文': 57, '英文': 69, '數學': 72, '自然': 78, '社會': 84}\n",
      "21_徐瑋良 {'國文': 81, '英文': 94, '數學': 97, '自然': 90, '社會': 81}\n",
      "22_余友中 {'國文': 76, '英文': 94, '數學': 68, '自然': 90, '社會': 66}\n",
      "23_李  唯 {'國文': 73, '英文': 89, '數學': 70, '自然': 56, '社會': 63}\n",
      "24_林可中 {'國文': 89, '英文': 96, '數學': 73, '自然': 94, '社會': 72}\n",
      "\n",
      "{'國文': 62, '英文': 98, '數學': 94, '自然': 64, '社會': 64}\n"
     ]
    }
   ],
   "source": [
    "import random\n",
    "\n",
    "std_list=['01_賴伊凡','02_張雯嬌','03_張濬昇','04_謝明學','05_劉俊孝','06_彭千祐',\n",
    "          '07_賴奕旭','08_劉冠亨','09_黃基展','10_楊凱丞','11_張文嘉','12_鄭丞芸',\n",
    "          '13_翟品皓','14_邱秀慧','15_陳瑞涓','16_陳彥廷','17_鄭興耀','18_温國焜',\n",
    "          '19_高家成','20_鄒騰沅','21_徐瑋良','22_余友中','23_李  唯','24_林可中']\n",
    "sbj_list=['國文','英文','數學','自然','社會']\n",
    "std_score={ std : {sbj : random.randint(50,100) for sbj in sbj_list} for std in std_list}\n",
    "\n",
    "for std,scores in std_score.items():\n",
    "    print(std,scores)\n",
    "print()\n",
    "print(std_score[\"02_張雯嬌\"])\n"
   ]
  }
 ],
 "metadata": {
  "kernelspec": {
   "display_name": "Python 3",
   "language": "python",
   "name": "python3"
  },
  "language_info": {
   "codemirror_mode": {
    "name": "ipython",
    "version": 3
   },
   "file_extension": ".py",
   "mimetype": "text/x-python",
   "name": "python",
   "nbconvert_exporter": "python",
   "pygments_lexer": "ipython3",
   "version": "3.8.6"
  },
  "orig_nbformat": 4,
  "vscode": {
   "interpreter": {
    "hash": "9650cb4e16cdd4a8e8e2d128bf38d875813998db22a3c986335f89e0cb4d7bb2"
   }
  }
 },
 "nbformat": 4,
 "nbformat_minor": 2
}
