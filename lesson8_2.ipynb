{
 "cells": [
  {
   "cell_type": "code",
   "execution_count": 1,
   "metadata": {},
   "outputs": [
    {
     "ename": "SyntaxError",
     "evalue": "unexpected EOF while parsing (<string>, line 0)",
     "output_type": "error",
     "traceback": [
      "Traceback \u001b[1;36m(most recent call last)\u001b[0m:\n",
      "\u001b[0m  File \u001b[0;32mc:\\Python38\\lib\\site-packages\\IPython\\core\\interactiveshell.py:3460\u001b[0m in \u001b[0;35mrun_code\u001b[0m\n    exec(code_obj, self.user_global_ns, self.user_ns)\u001b[0m\n",
      "\u001b[1;36m  Cell \u001b[1;32mIn[1], line 5\u001b[1;36m\n\u001b[1;33m    s=eval(input(\"請輸入一邊:\"))\u001b[1;36m\n",
      "\u001b[1;36m  File \u001b[1;32m<string>\u001b[1;36m\u001b[0m\n\u001b[1;33m    \u001b[0m\n\u001b[1;37m    ^\u001b[0m\n\u001b[1;31mSyntaxError\u001b[0m\u001b[1;31m:\u001b[0m unexpected EOF while parsing\n"
     ]
    }
   ],
   "source": [
    "import math\n",
    "\n",
    "def hypotenuse(side,otherside):\n",
    "    return math.sqrt(side**2+otherside**2)\n",
    "s=eval(input(\"請輸入一邊:\"))\n",
    "os=eval(input(\"請輸入另外一邊:\"))\n",
    "\n",
    "hypotenuse(s,os)\n",
    "\n",
    "\n",
    "\n",
    "\n",
    "\n",
    "\n",
    "\n",
    "\n",
    "\n",
    "\n"
   ]
  },
  {
   "cell_type": "code",
   "execution_count": 6,
   "metadata": {},
   "outputs": [],
   "source": [
    "def bmi_value(weight,height):\n",
    "    return weight/(height/100)**2\n",
    "\n",
    "def suggestion(bmi):\n",
    "    message=\"\"\n",
    "    if bmi<18.5:\n",
    "        message=\"體重過輕\"\n",
    "    elif bmi<24:\n",
    "            message=\"正常範圍\"\n",
    "    elif bmi<27:\n",
    "            message=\"過重\"\n",
    "    elif bmi<30:\n",
    "            message=\"輕度肥胖\"  \n",
    "    elif bmi<35:\n",
    "            message=\"中度肥胖\"\n",
    "    else:\n",
    "            message=\"中度肥胖\"\n",
    "    return message \n"
   ]
  },
  {
   "cell_type": "code",
   "execution_count": 11,
   "metadata": {},
   "outputs": [],
   "source": [
    "def user_bmi():\n",
    "    name=input(\"請輸入姓名:\")\n",
    "    height=int(input(\"請輸入身高(公分):\"))\n",
    "    weight=int(input(\"請輸入體重(公斤):\"))\n",
    "    bmi=bmi_value(weight,height)\n",
    "    info=suggestion(bmi)\n",
    "    print(f\"{name}您好:\")\n",
    "    print(f\"您的bmi數值是:{bmi:.2f}\")\n",
    "    print(f\"給您的建議:{info}\")"
   ]
  },
  {
   "cell_type": "code",
   "execution_count": 12,
   "metadata": {},
   "outputs": [
    {
     "name": "stdout",
     "output_type": "stream",
     "text": [
      "qqq您好:\n",
      "您的bmi數值是:19.53\n",
      "給您的建議:正常範圍\n"
     ]
    },
    {
     "ename": "ValueError",
     "evalue": "invalid literal for int() with base 10: 'eee'",
     "output_type": "error",
     "traceback": [
      "\u001b[1;31m---------------------------------------------------------------------------\u001b[0m",
      "\u001b[1;31mValueError\u001b[0m                                Traceback (most recent call last)",
      "Cell \u001b[1;32mIn[12], line 2\u001b[0m\n\u001b[0;32m      1\u001b[0m \u001b[39mwhile\u001b[39;00m(\u001b[39mTrue\u001b[39;00m):\n\u001b[1;32m----> 2\u001b[0m     user_bmi()\n\u001b[0;32m      3\u001b[0m     keyin\u001b[39m=\u001b[39m\u001b[39minput\u001b[39m(\u001b[39m\"\u001b[39m\u001b[39m您是否繼續,不要請按q:或按其他鍵繼續:\u001b[39m\u001b[39m\"\u001b[39m)\n\u001b[0;32m      4\u001b[0m     \u001b[39mif\u001b[39;00m keyin\u001b[39m==\u001b[39m\u001b[39m\"\u001b[39m\u001b[39mq\u001b[39m\u001b[39m\"\u001b[39m:\n",
      "Cell \u001b[1;32mIn[11], line 3\u001b[0m, in \u001b[0;36muser_bmi\u001b[1;34m()\u001b[0m\n\u001b[0;32m      1\u001b[0m \u001b[39mdef\u001b[39;00m \u001b[39muser_bmi\u001b[39m():\n\u001b[0;32m      2\u001b[0m     name\u001b[39m=\u001b[39m\u001b[39minput\u001b[39m(\u001b[39m\"\u001b[39m\u001b[39m請輸入姓名:\u001b[39m\u001b[39m\"\u001b[39m)\n\u001b[1;32m----> 3\u001b[0m     height\u001b[39m=\u001b[39m\u001b[39mint\u001b[39;49m(\u001b[39minput\u001b[39;49m(\u001b[39m\"\u001b[39;49m\u001b[39m請輸入身高(公分):\u001b[39;49m\u001b[39m\"\u001b[39;49m))\n\u001b[0;32m      4\u001b[0m     weight\u001b[39m=\u001b[39m\u001b[39mint\u001b[39m(\u001b[39minput\u001b[39m(\u001b[39m\"\u001b[39m\u001b[39m請輸入體重(公斤):\u001b[39m\u001b[39m\"\u001b[39m))\n\u001b[0;32m      5\u001b[0m     bmi\u001b[39m=\u001b[39mbmi_value(weight,height)\n",
      "\u001b[1;31mValueError\u001b[0m: invalid literal for int() with base 10: 'eee'"
     ]
    }
   ],
   "source": [
    "while(True):\n",
    "    user_bmi()\n",
    "    keyin=input(\"您是否繼續,不要請按q:或按其他鍵繼續:\")\n",
    "    if keyin==\"q\":\n",
    "        break\n",
    "print(\"程式結束\")    "
   ]
  },
  {
   "cell_type": "code",
   "execution_count": 1,
   "metadata": {},
   "outputs": [
    {
     "ename": "ValueError",
     "evalue": "invalid literal for int() with base 10: ''",
     "output_type": "error",
     "traceback": [
      "\u001b[1;31m---------------------------------------------------------------------------\u001b[0m",
      "\u001b[1;31mValueError\u001b[0m                                Traceback (most recent call last)",
      "Cell \u001b[1;32mIn[1], line 5\u001b[0m\n\u001b[0;32m      2\u001b[0m num\u001b[39m=\u001b[39m\u001b[39m0\u001b[39m\n\u001b[0;32m      4\u001b[0m \u001b[39mwhile\u001b[39;00m (\u001b[39mTrue\u001b[39;00m):\n\u001b[1;32m----> 5\u001b[0m         input_value\u001b[39m=\u001b[39m\u001b[39mint\u001b[39;49m(\u001b[39minput\u001b[39;49m(\u001b[39mf\u001b[39;49m\u001b[39m\"\u001b[39;49m\u001b[39m請輸入第\u001b[39;49m\u001b[39m{\u001b[39;49;00mnum\u001b[39m+\u001b[39;49m\u001b[39m1\u001b[39;49m\u001b[39m}\u001b[39;49;00m\u001b[39m個整數,輸入負數，結束程式:\u001b[39;49m\u001b[39m\"\u001b[39;49m))\n\u001b[0;32m      6\u001b[0m         \u001b[39mif\u001b[39;00m (input_value\u001b[39m==\u001b[39m\u001b[39m-\u001b[39m\u001b[39m1\u001b[39m):\n\u001b[0;32m      7\u001b[0m                 \u001b[39mbreak\u001b[39;00m\n",
      "\u001b[1;31mValueError\u001b[0m: invalid literal for int() with base 10: ''"
     ]
    }
   ],
   "source": [
    "sum=0\n",
    "num=0\n",
    "\n",
    "while (True):\n",
    "        input_value=int(input(f\"請輸入第{num+1}個整數,輸入負數，結束程式:\"))\n",
    "        if (input_value==-1):\n",
    "                break\n",
    "                print(\"程式結束\")\n",
    "        if (input_value%2==0):        \n",
    "                num+=1\n",
    "                sum += input_value\n",
    "        elif(input_value%2>0):\n",
    "                continue\n",
    "        \n",
    "        \n",
    "print(f\"您輸入的偶數加總為:{sum}\")       \n",
    "          \n",
    "\n",
    "\n",
    "    "
   ]
  }
 ],
 "metadata": {
  "kernelspec": {
   "display_name": "Python 3",
   "language": "python",
   "name": "python3"
  },
  "language_info": {
   "codemirror_mode": {
    "name": "ipython",
    "version": 3
   },
   "file_extension": ".py",
   "mimetype": "text/x-python",
   "name": "python",
   "nbconvert_exporter": "python",
   "pygments_lexer": "ipython3",
   "version": "3.8.6"
  },
  "orig_nbformat": 4,
  "vscode": {
   "interpreter": {
    "hash": "9650cb4e16cdd4a8e8e2d128bf38d875813998db22a3c986335f89e0cb4d7bb2"
   }
  }
 },
 "nbformat": 4,
 "nbformat_minor": 2
}
