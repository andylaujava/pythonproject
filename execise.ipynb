{
 "cells": [
  {
   "cell_type": "code",
   "execution_count": 4,
   "metadata": {},
   "outputs": [
    {
     "name": "stdout",
     "output_type": "stream",
     "text": [
      "1 2.45 4 9.7 abc\n",
      "1m2.45m4m9.7mabc\n",
      "1-----2.45-----4-----9.7-----abc\n"
     ]
    }
   ],
   "source": [
    "print(1,2.45,4,9.7,'abc')\n",
    "print(1,2.45,4,9.7,'abc',sep=\"m\")\n",
    "print(1,2.45,4,9.7,'abc',sep=\"-----\")"
   ]
  },
  {
   "cell_type": "code",
   "execution_count": 6,
   "metadata": {},
   "outputs": [
    {
     "name": "stdout",
     "output_type": "stream",
     "text": [
      "hello!ooooworld\n"
     ]
    }
   ],
   "source": [
    "print('hello!',end=\"oooo\")\n",
    "print('world')"
   ]
  },
  {
   "cell_type": "code",
   "execution_count": 34,
   "metadata": {},
   "outputs": [
    {
     "name": "stdout",
     "output_type": "stream",
     "text": [
      "n=10,m=20\n",
      "n= 10 , m= 20\n",
      "n=10,m=20\n"
     ]
    }
   ],
   "source": [
    "n=10\n",
    "m=20\n",
    "print(\"n=\"+str(n)+\",m=\"+str(m))\n",
    "print(\"n=\",n,',',\"m=\",m)\n",
    "print(f\"n={n},m={m}\")"
   ]
  },
  {
   "cell_type": "code",
   "execution_count": 35,
   "metadata": {},
   "outputs": [
    {
     "name": "stdout",
     "output_type": "stream",
     "text": [
      "您好!王童,歡迎光臨\n"
     ]
    }
   ],
   "source": [
    "name=input('請輸入姓名:')\n",
    "print(f'您好!{name},歡迎光臨')"
   ]
  }
 ],
 "metadata": {
  "kernelspec": {
   "display_name": "venv1",
   "language": "python",
   "name": "python3"
  },
  "language_info": {
   "codemirror_mode": {
    "name": "ipython",
    "version": 3
   },
   "file_extension": ".py",
   "mimetype": "text/x-python",
   "name": "python",
   "nbconvert_exporter": "python",
   "pygments_lexer": "ipython3",
   "version": "3.8.6"
  },
  "orig_nbformat": 4
 },
 "nbformat": 4,
 "nbformat_minor": 2
}
