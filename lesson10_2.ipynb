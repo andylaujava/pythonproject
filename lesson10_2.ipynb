{
 "cells": [
  {
   "cell_type": "code",
   "execution_count": 5,
   "metadata": {},
   "outputs": [
    {
     "data": {
      "text/plain": [
       "{2, 4, 6, 8, 10}"
      ]
     },
     "execution_count": 5,
     "metadata": {},
     "output_type": "execute_result"
    }
   ],
   "source": [
    "even_numbers={2,4,6,8,10,2,4,6,8,10}\n",
    "even_numbers"
   ]
  },
  {
   "cell_type": "code",
   "execution_count": 2,
   "metadata": {},
   "outputs": [
    {
     "name": "stdout",
     "output_type": "stream",
     "text": [
      "2\n",
      "4\n",
      "6\n",
      "8\n",
      "10\n"
     ]
    }
   ],
   "source": [
    "for item in even_numbers:\n",
    "    print(item)"
   ]
  },
  {
   "cell_type": "code",
   "execution_count": 3,
   "metadata": {},
   "outputs": [
    {
     "data": {
      "text/plain": [
       "[2, 4, 6, 8, 10]"
      ]
     },
     "execution_count": 3,
     "metadata": {},
     "output_type": "execute_result"
    }
   ],
   "source": [
    "list(even_numbers)"
   ]
  },
  {
   "cell_type": "code",
   "execution_count": 4,
   "metadata": {},
   "outputs": [
    {
     "data": {
      "text/plain": [
       "{2, 4, 6, 8, 10, 12}"
      ]
     },
     "execution_count": 4,
     "metadata": {},
     "output_type": "execute_result"
    }
   ],
   "source": [
    "even_numbers.add(12)\n",
    "even_numbers"
   ]
  },
  {
   "cell_type": "code",
   "execution_count": 10,
   "metadata": {},
   "outputs": [
    {
     "name": "stdout",
     "output_type": "stream",
     "text": [
      "本期大樂透電腦選號號碼如下:[{4, 40, 46, 27, 28, 30}, {42, 43, 45, 46, 17, 20, 31}, {3, 4, 5, 36, 40, 41, 11}]\n"
     ]
    }
   ],
   "source": [
    "import random\n",
    "\n",
    "lotto_nums=[{random.randint(1,49) for _ in range(7)} for _ in range(3)]\n",
    "print(f\"本期大樂透電腦選號號碼如下:{lotto_nums}\")"
   ]
  },
  {
   "cell_type": "code",
   "execution_count": 6,
   "metadata": {},
   "outputs": [
    {
     "name": "stdout",
     "output_type": "stream",
     "text": [
      "本期大樂透電腦選號號碼如下:\n",
      "3 36 37 38 17 18 特別號:23 \n"
     ]
    }
   ],
   "source": [
    "import random\n",
    "\n",
    "lot=set()\n",
    "while(len(lot)<7):\n",
    "        rValue=random.randint(1,49)\n",
    "        lot.add(rValue)\n",
    "print(f'本期大樂透電腦選號號碼如下:')\n",
    "\n",
    "lotList=list(lot)\n",
    "specialNum = lotList.pop()\n",
    "for item in lotList:\n",
    "        print(item, end=' ')\n",
    "\n",
    "print('特別號:%d '% specialNum )\n"
   ]
  },
  {
   "cell_type": "code",
   "execution_count": 52,
   "metadata": {},
   "outputs": [
    {
     "name": "stdout",
     "output_type": "stream",
     "text": [
      "32 2 35 5 9 47 特別號:48\n"
     ]
    }
   ],
   "source": [
    "#HomeWork請輸入本期大樂透電腦選號的組數:10##for lot in range(pack):\n",
    "\n",
    "#print(f\"輸入的大樂透電腦選號組數:{pack}\")\n",
    "import random\n",
    "\n",
    "lot=set()\n",
    "\n",
    "while(len(lot)<7):\n",
    "        rValue=random.randint(1,49)\n",
    "        lot.add(rValue)\n",
    "        \n",
    "        lotList=list(lot)\n",
    "        specialNum = lotList.pop()\n",
    "for item in lotList:\n",
    "        print(item, end=' ')\n",
    "print('特別號:%d' % specialNum )\n"
   ]
  },
  {
   "cell_type": "code",
   "execution_count": 182,
   "metadata": {},
   "outputs": [
    {
     "name": "stdout",
     "output_type": "stream",
     "text": [
      "[8, 42, 11, 13, 48, 19] 特別號:30\n",
      "[8, 42, 11, 13, 48, 19] 特別號:30\n",
      "[8, 42, 11, 13, 48, 19] 特別號:30\n",
      "[8, 42, 11, 13, 48, 19] 特別號:30\n"
     ]
    }
   ],
   "source": [
    "for R in range(pack):\n",
    "    print(lotList,f'特別號:{specialNum}')\n"
   ]
  }
 ],
 "metadata": {
  "kernelspec": {
   "display_name": "Python 3",
   "language": "python",
   "name": "python3"
  },
  "language_info": {
   "codemirror_mode": {
    "name": "ipython",
    "version": 3
   },
   "file_extension": ".py",
   "mimetype": "text/x-python",
   "name": "python",
   "nbconvert_exporter": "python",
   "pygments_lexer": "ipython3",
   "version": "3.8.6"
  },
  "orig_nbformat": 4,
  "vscode": {
   "interpreter": {
    "hash": "9650cb4e16cdd4a8e8e2d128bf38d875813998db22a3c986335f89e0cb4d7bb2"
   }
  }
 },
 "nbformat": 4,
 "nbformat_minor": 2
}
