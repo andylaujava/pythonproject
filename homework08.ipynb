{
 "cells": [
  {
   "cell_type": "code",
   "execution_count": 164,
   "metadata": {},
   "outputs": [
    {
     "name": "stdout",
     "output_type": "stream",
     "text": [
      "您的大樂透電腦選號為:[33, 16, 38, 9, 45, 12, 35],特別號:35\n",
      "您的大樂透電腦選號為:[28, 46, 23, 45, 4, 39, 32],特別號:32\n",
      "您的大樂透電腦選號為:[32, 38, 33, 42, 36, 21, 45],特別號:45\n",
      "您的大樂透電腦選號為:[20, 5, 29, 12, 4, 41, 29],特別號:29\n",
      "您的大樂透電腦選號為:[19, 38, 34, 10, 12, 46, 21],特別號:21\n",
      "您的大樂透電腦選號為:[34, 49, 22, 9, 37, 2, 4],特別號:4\n",
      "您的大樂透電腦選號為:[4, 12, 21, 6, 12, 30, 14],特別號:14\n",
      "您的大樂透電腦選號為:[24, 13, 9, 19, 17, 36, 6],特別號:6\n",
      "您的大樂透電腦選號為:[5, 45, 47, 40, 26, 19, 12],特別號:12\n",
      "您的大樂透電腦選號為:[16, 33, 28, 44, 47, 15, 7],特別號:7\n"
     ]
    }
   ],
   "source": [
    "import random\n",
    "\n",
    "lot=set()\n",
    "inputvalue=int(input(\"請輸入大樂透電腦選號組數:\"))\n",
    "for lot in range(inputvalue):\n",
    "        lot=random.randint(1,49)\n",
    "        pack=[]\n",
    "        for _ in range(7):\n",
    "                pack.append(random.randint(1,49))\n",
    "        \n",
    "        print(f\"您的大樂透電腦選號為:{pack},特別號:{pack[-1]}\")       "
   ]
  },
  {
   "cell_type": "code",
   "execution_count": null,
   "metadata": {},
   "outputs": [],
   "source": [
    "pack=[item]\n",
    "inputvalue=int(input(\"請輸入大樂透電腦選號組數:\"))\n",
    "for lot in range(inputvalue):\n",
    "    \n",
    "    print(f'第{inputvalue}組號碼:{lotList}')\n",
    "    print('特別號:%d' % specialNum )"
   ]
  },
  {
   "cell_type": "code",
   "execution_count": null,
   "metadata": {},
   "outputs": [],
   "source": [
    "+"
   ]
  }
 ],
 "metadata": {
  "kernelspec": {
   "display_name": "Python 3",
   "language": "python",
   "name": "python3"
  },
  "language_info": {
   "codemirror_mode": {
    "name": "ipython",
    "version": 3
   },
   "file_extension": ".py",
   "mimetype": "text/x-python",
   "name": "python",
   "nbconvert_exporter": "python",
   "pygments_lexer": "ipython3",
   "version": "3.8.6"
  },
  "orig_nbformat": 4
 },
 "nbformat": 4,
 "nbformat_minor": 2
}
