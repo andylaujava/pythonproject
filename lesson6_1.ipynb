{
 "cells": [
  {
   "cell_type": "code",
   "execution_count": null,
   "metadata": {},
   "outputs": [],
   "source": [
    "start=int(input(\"請輸入起始值:\"))\n",
    "end=int(input(\"請輸入結束值:\"))\n",
    "if start%2==1:\n",
    "    newstart=start+1\n",
    "else:\n",
    "    newstart=start\n",
    "total=0\n",
    "for i in range(newstart,end+1,2):\n",
    "    total+=i\n",
    "print(f\"從{start}~{end}的總和為:{total}\")\n",
    "\n"
   ]
  },
  {
   "cell_type": "code",
   "execution_count": 6,
   "metadata": {},
   "outputs": [
    {
     "name": "stdout",
     "output_type": "stream",
     "text": [
      "1*1=1\t1*2=2\t1*3=3\t1*4=4\t1*5=5\t1*6=6\t1*7=7\t1*8=8\t1*9=9\t\n",
      "2*1=2\t2*2=4\t2*3=6\t2*4=8\t2*5=10\t2*6=12\t2*7=14\t2*8=16\t2*9=18\t\n",
      "3*1=3\t3*2=6\t3*3=9\t3*4=12\t3*5=15\t3*6=18\t3*7=21\t3*8=24\t3*9=27\t\n",
      "4*1=4\t4*2=8\t4*3=12\t4*4=16\t4*5=20\t4*6=24\t4*7=28\t4*8=32\t4*9=36\t\n",
      "5*1=5\t5*2=10\t5*3=15\t5*4=20\t5*5=25\t5*6=30\t5*7=35\t5*8=40\t5*9=45\t\n",
      "6*1=6\t6*2=12\t6*3=18\t6*4=24\t6*5=30\t6*6=36\t6*7=42\t6*8=48\t6*9=54\t\n",
      "7*1=7\t7*2=14\t7*3=21\t7*4=28\t7*5=35\t7*6=42\t7*7=49\t7*8=56\t7*9=63\t\n",
      "8*1=8\t8*2=16\t8*3=24\t8*4=32\t8*5=40\t8*6=48\t8*7=56\t8*8=64\t8*9=72\t\n",
      "9*1=9\t9*2=18\t9*3=27\t9*4=36\t9*5=45\t9*6=54\t9*7=63\t9*8=72\t9*9=81\t\n"
     ]
    }
   ],
   "source": [
    "for i in range(1,10):\n",
    "    for j in range(1,10):\n",
    "        print(f\"{i}*{j}={i*j}\",end=\"\\t\")\n",
    "    print()#印空字串，預設值為換行\n",
    "    "
   ]
  },
  {
   "cell_type": "code",
   "execution_count": 4,
   "metadata": {},
   "outputs": [
    {
     "name": "stdout",
     "output_type": "stream",
     "text": [
      "22的因數:\n",
      "1 2 11 22 "
     ]
    }
   ],
   "source": [
    "num=int(input(\"請輸入整數，求所有因數:\"))\n",
    "print(f\"{num}的因數:\")\n",
    "\n",
    "for i in range(1,num+1):\n",
    "    if num % i== 0:\n",
    "        print(i,end=\" \")\n"
   ]
  },
  {
   "cell_type": "code",
   "execution_count": null,
   "metadata": {},
   "outputs": [],
   "source": [
    "deposit=0\n",
    "num=0\n",
    "while(deposit<30000):\n",
    "    num+=1\n",
    "    input_value=int(input(f\"請輸入第{num}份的存款:\"))\n",
    "    deposit+=input_value\n",
    "    print(f\"存夠了您共存了{num}月，總存款為{deposit}\")"
   ]
  },
  {
   "cell_type": "code",
   "execution_count": 10,
   "metadata": {},
   "outputs": [
    {
     "data": {
      "text/plain": [
       "[0, 1, 2, 3, 4]"
      ]
     },
     "execution_count": 10,
     "metadata": {},
     "output_type": "execute_result"
    }
   ],
   "source": [
    "list(range(5))"
   ]
  },
  {
   "cell_type": "code",
   "execution_count": 11,
   "metadata": {},
   "outputs": [
    {
     "data": {
      "text/plain": [
       "[1, 4, 7, 10, 13, 16, 19]"
      ]
     },
     "execution_count": 11,
     "metadata": {},
     "output_type": "execute_result"
    }
   ],
   "source": [
    "list(range(1,20,3))"
   ]
  },
  {
   "cell_type": "code",
   "execution_count": 9,
   "metadata": {},
   "outputs": [
    {
     "ename": "SyntaxError",
     "evalue": "invalid syntax (2018996450.py, line 2)",
     "output_type": "error",
     "traceback": [
      "\u001b[1;36m  Cell \u001b[1;32mIn[9], line 2\u001b[1;36m\u001b[0m\n\u001b[1;33m    for  in  range(i):\u001b[0m\n\u001b[1;37m         ^\u001b[0m\n\u001b[1;31mSyntaxError\u001b[0m\u001b[1;31m:\u001b[0m invalid syntax\n"
     ]
    }
   ],
   "source": [
    "for i in range(1,6):\n",
    "    for  in  range(i):\n",
    "      print(\"#\",end=''))"
   ]
  },
  {
   "cell_type": "code",
   "execution_count": 48,
   "metadata": {},
   "outputs": [
    {
     "name": "stdout",
     "output_type": "stream",
     "text": [
      "10\n",
      "['d', 'e']\n"
     ]
    }
   ],
   "source": [
    "list1 = [10, 20, 30, 40, 50 ]\n",
    "list2 = [\"a\", \"b\", \"c\", \"d\", \"e\", \"f\"]\n",
    "\n",
    "print (list1[0])\n",
    "print (list2[3:5])"
   ]
  },
  {
   "cell_type": "code",
   "execution_count": 59,
   "metadata": {},
   "outputs": [
    {
     "name": "stdout",
     "output_type": "stream",
     "text": [
      "70\n",
      "60\n",
      "80\n"
     ]
    }
   ],
   "source": [
    "q = [70, 60, 80, 90, 100 ]\n",
    "for i in range(3):\n",
    "    print(q[i])"
   ]
  },
  {
   "cell_type": "code",
   "execution_count": 97,
   "metadata": {},
   "outputs": [
    {
     "ename": "KeyboardInterrupt",
     "evalue": "",
     "output_type": "error",
     "traceback": [
      "\u001b[1;31m---------------------------------------------------------------------------\u001b[0m",
      "\u001b[1;31mKeyboardInterrupt\u001b[0m                         Traceback (most recent call last)",
      "Cell \u001b[1;32mIn[97], line 3\u001b[0m\n\u001b[0;32m      1\u001b[0m q \u001b[39m=\u001b[39m [\u001b[39m'\u001b[39m\u001b[39m*\u001b[39m\u001b[39m'\u001b[39m\u001b[39m*\u001b[39ma]\n\u001b[0;32m      2\u001b[0m \u001b[39mwhile\u001b[39;00m a\u001b[39m<\u001b[39m\u001b[39m6\u001b[39m:\n\u001b[1;32m----> 3\u001b[0m     i\u001b[39m-\u001b[39m\u001b[39m=\u001b[39m\u001b[39m1\u001b[39m\n\u001b[0;32m      4\u001b[0m \u001b[39mprint\u001b[39m (q[\u001b[39m'\u001b[39m\u001b[39m*\u001b[39m\u001b[39m'\u001b[39m\u001b[39m*\u001b[39mi])\n",
      "\u001b[1;31mKeyboardInterrupt\u001b[0m: "
     ]
    }
   ],
   "source": [
    "q = ['*'*a]\n",
    "while a<6:\n",
    "    i-=1\n",
    "print (q['*'*i])\n"
   ]
  },
  {
   "cell_type": "code",
   "execution_count": 88,
   "metadata": {},
   "outputs": [
    {
     "name": "stdout",
     "output_type": "stream",
     "text": [
      "6\n",
      "5\n",
      "4\n",
      "3\n",
      "2\n",
      "1\n",
      "離開後a為 0\n"
     ]
    }
   ],
   "source": [
    "a='*'\n",
    "while a > 0:\n",
    "\tprint(a)\n",
    "\ta -= 1 \n",
    "print(\"離開後a為\",a)"
   ]
  },
  {
   "cell_type": "code",
   "execution_count": 50,
   "metadata": {},
   "outputs": [
    {
     "ename": "SyntaxError",
     "evalue": "invalid syntax (2413176888.py, line 2)",
     "output_type": "error",
     "traceback": [
      "\u001b[1;36m  Cell \u001b[1;32mIn[50], line 2\u001b[1;36m\u001b[0m\n\u001b[1;33m    do Something\u001b[0m\n\u001b[1;37m       ^\u001b[0m\n\u001b[1;31mSyntaxError\u001b[0m\u001b[1;31m:\u001b[0m invalid syntax\n"
     ]
    }
   ],
   "source": [
    "for item in some_iterable_object:\n",
    "    do Something\n",
    "    do Something Else"
   ]
  },
  {
   "cell_type": "code",
   "execution_count": 98,
   "metadata": {},
   "outputs": [
    {
     "name": "stdout",
     "output_type": "stream",
     "text": [
      "#\n",
      "##\n",
      "###\n",
      "####\n",
      "#####\n"
     ]
    }
   ],
   "source": [
    "for i in range(1,6):\n",
    "    for _ in range(i):\n",
    "        print(\"#\",end='')\n",
    "    print()"
   ]
  },
  {
   "cell_type": "code",
   "execution_count": 1,
   "metadata": {},
   "outputs": [
    {
     "name": "stdout",
     "output_type": "stream",
     "text": [
      "您的bmi:17.58\n",
      "體重太輕\n"
     ]
    }
   ],
   "source": [
    "import math\n",
    "height=float(input(\"請輸入身高，單位為(公分):\"))\n",
    "weight=float(input(\"請輸入體重，單位為(公斤):\"))\n",
    "bmi=weight/(height/100)**2\n",
    "if bmi<18.5:\n",
    "    print(f\"您的bmi:{bmi:.2f}\\n體重太輕\")\n",
    "elif bmi>30:\n",
    "     print(f\"您的bmi:{bmi:.2f}\\n體重肥胖\")\n",
    "elif 18.5<=bmi<=25:\n",
    "      print(f\"您的bmi:{bmi:.2f}\\n體重正常\")\n",
    "elif 25<=bmi<=30:\n",
    "     print(f\"您的bmi:{bmi:.2f}\\nwu體重過重\")"
   ]
  },
  {
   "cell_type": "code",
   "execution_count": 3,
   "metadata": {},
   "outputs": [
    {
     "name": "stdout",
     "output_type": "stream",
     "text": [
      "普遍級:12歲(含)以下皆可觀賞\n"
     ]
    }
   ],
   "source": [
    "ages=int(input(\"請輸入年齡:\"))\n",
    "if ages>=18:\n",
    "    print(\"限制級:18歲或以上皆可觀賞\")\n",
    "elif 13<=ages<=17:\n",
    "    print(\"輔導級:13(含)~17歲以上皆可欣賞。\")\n",
    "elif ages<=12:\n",
    "    print(\"普遍級:12歲(含)以下皆可觀賞\")"
   ]
  },
  {
   "cell_type": "code",
   "execution_count": 6,
   "metadata": {},
   "outputs": [
    {
     "name": "stdout",
     "output_type": "stream",
     "text": [
      "正常\n"
     ]
    }
   ],
   "source": [
    "sbp=int(input(\"請輸入收縮壓:\"))\n",
    "dbp=int(input(\"請輸入舒張壓:\"))\n",
    "if sbp<120 and dbp<80:\n",
    " suggestion=\"正常\"\n",
    "\n",
    "if 120<=sbp<=129 and dbp<80:\n",
    " suggestion=\"高血壓升高\"\n",
    "\n",
    "if 130<=sbp<=139 or 80<=dbp<=89:\n",
    " suggestion=\"高血壓一期\"\n",
    "\n",
    "if sbp>=140 or dbp>=90:\n",
    " suggestion=\"高血壓二期\"\n",
    "\n",
    "if sbp>=130 and dbp<80:\n",
    " suggestion=\"單純收縮期高血壓\"\n",
    "print(suggestion)\n"
   ]
  },
  {
   "cell_type": "code",
   "execution_count": 35,
   "metadata": {},
   "outputs": [
    {
     "data": {
      "text/plain": [
       "'|     123||456     |'"
      ]
     },
     "execution_count": 35,
     "metadata": {},
     "output_type": "execute_result"
    }
   ],
   "source": [
    "\"|{0:8d}||{1:<8d}|\".format(123, 456)"
   ]
  },
  {
   "cell_type": "code",
   "execution_count": 36,
   "metadata": {},
   "outputs": [
    {
     "ename": "SyntaxError",
     "evalue": "invalid syntax (311208897.py, line 1)",
     "output_type": "error",
     "traceback": [
      "\u001b[1;36m  Cell \u001b[1;32mIn[36], line 1\u001b[1;36m\u001b[0m\n\u001b[1;33m    a=eval(input\"請輸入梯形的上底(公分)\")\u001b[0m\n\u001b[1;37m                ^\u001b[0m\n\u001b[1;31mSyntaxError\u001b[0m\u001b[1;31m:\u001b[0m invalid syntax\n"
     ]
    }
   ],
   "source": [
    "a=eval(input\"請輸入梯形的上底(公分)\")\n",
    "b=eval(input\"請輸入梯形的下底(公分)\")\n",
    "c=eval(input\"請輸入梯形的高(公分)\")\n",
    "d=(a+b)*c/2\n",
    "print(f\"梯形的面積:{d}平方公分\")"
   ]
  }
 ],
 "metadata": {
  "kernelspec": {
   "display_name": "Python 3",
   "language": "python",
   "name": "python3"
  },
  "language_info": {
   "codemirror_mode": {
    "name": "ipython",
    "version": 3
   },
   "file_extension": ".py",
   "mimetype": "text/x-python",
   "name": "python",
   "nbconvert_exporter": "python",
   "pygments_lexer": "ipython3",
   "version": "3.8.6"
  },
  "orig_nbformat": 4,
  "vscode": {
   "interpreter": {
    "hash": "9650cb4e16cdd4a8e8e2d128bf38d875813998db22a3c986335f89e0cb4d7bb2"
   }
  }
 },
 "nbformat": 4,
 "nbformat_minor": 2
}
