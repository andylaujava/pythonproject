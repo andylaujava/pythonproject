{
 "cells": [
  {
   "cell_type": "code",
   "execution_count": null,
   "metadata": {},
   "outputs": [
    {
     "ename": "",
     "evalue": "",
     "output_type": "error",
     "traceback": [
      "\u001b[1;31m執行具有 'c:\\Users\\beethoven\\Documents\\python386\\python.exe' 的儲存格需要 ipykernel 套件。\n",
      "\u001b[1;31mRun the following command to install 'ipykernel' into the Python environment. \n",
      "\u001b[1;31mCommand: 'c:/Users/beethoven/Documents/python386/python.exe -m pip install ipykernel -U --user --force-reinstall'"
     ]
    }
   ],
   "source": [
    "scores=int(input(\"請輸入學生分數:\"))\n",
    "add=int(input(\"學生符合加分條件嗎?yes請輸入1,no請輸入0:\"))\n",
    "\n",
    "if(add==1):\n",
    "    scores*=1.05\n",
    "    if scores>300:\n",
    "        scores=300\n",
    "print(f\"學生分數是{round(scores)}\")\n"
   ]
  },
  {
   "cell_type": "code",
   "execution_count": null,
   "metadata": {},
   "outputs": [
    {
     "ename": "",
     "evalue": "",
     "output_type": "error",
     "traceback": [
      "\u001b[1;31m執行具有 'c:\\Users\\beethoven\\Documents\\python386\\python.exe' 的儲存格需要 ipykernel 套件。\n",
      "\u001b[1;31mRun the following command to install 'ipykernel' into the Python environment. \n",
      "\u001b[1;31mCommand: 'c:/Users/beethoven/Documents/python386/python.exe -m pip install ipykernel -U --user --force-reinstall'"
     ]
    }
   ],
   "source": [
    "scores=int(input(\"請輸入學生分數:\"))\n",
    "if scores >=60:\n",
    "    print(\"及格\")\n",
    "if scores <=60:\n",
    "    print(\"不及格\")    "
   ]
  },
  {
   "cell_type": "code",
   "execution_count": null,
   "metadata": {},
   "outputs": [
    {
     "ename": "",
     "evalue": "",
     "output_type": "error",
     "traceback": [
      "\u001b[1;31m執行具有 'c:\\Users\\beethoven\\Documents\\python386\\python.exe' 的儲存格需要 ipykernel 套件。\n",
      "\u001b[1;31mRun the following command to install 'ipykernel' into the Python environment. \n",
      "\u001b[1;31mCommand: 'c:/Users/beethoven/Documents/python386/python.exe -m pip install ipykernel -U --user --force-reinstall'"
     ]
    }
   ],
   "source": [
    "scores=int(input(\"請輸入成績\"))\n",
    "if scores >=60:\n",
    "    print(\"及格\")\n",
    "    if scores >=80:   \n",
    "        print(\"優等\")   \n",
    "    else:\n",
    "        print(\"甲\")    \n",
    "else:\n",
    "    print(\"不及格\")\n",
    "    if scores >=50:\n",
    "        print(\"差\")\n",
    "    else:\n",
    "        print(\"很差\")    "
   ]
  },
  {
   "cell_type": "code",
   "execution_count": null,
   "metadata": {},
   "outputs": [
    {
     "ename": "",
     "evalue": "",
     "output_type": "error",
     "traceback": [
      "\u001b[1;31m執行具有 'c:\\Users\\beethoven\\Documents\\python386\\python.exe' 的儲存格需要 ipykernel 套件。\n",
      "\u001b[1;31mRun the following command to install 'ipykernel' into the Python environment. \n",
      "\u001b[1;31mCommand: 'c:/Users/beethoven/Documents/python386/python.exe -m pip install ipykernel -U --user --force-reinstall'"
     ]
    }
   ],
   "source": [
    "x=10\n",
    "y=20\n",
    "print(f\"x+y={x+y}\")"
   ]
  },
  {
   "cell_type": "code",
   "execution_count": null,
   "metadata": {},
   "outputs": [
    {
     "ename": "",
     "evalue": "",
     "output_type": "error",
     "traceback": [
      "\u001b[1;31m執行具有 'c:\\Users\\beethoven\\Documents\\python386\\python.exe' 的儲存格需要 ipykernel 套件。\n",
      "\u001b[1;31mRun the following command to install 'ipykernel' into the Python environment. \n",
      "\u001b[1;31mCommand: 'c:/Users/beethoven/Documents/python386/python.exe -m pip install ipykernel -U --user --force-reinstall'"
     ]
    }
   ],
   "source": [
    "a = 15\n",
    "if a >= 14:\n",
    "\ta -= 2 \n",
    "\tprint(a)"
   ]
  }
 ],
 "metadata": {
  "kernelspec": {
   "display_name": "Python 3",
   "language": "python",
   "name": "python3"
  },
  "language_info": {
   "codemirror_mode": {
    "name": "ipython",
    "version": 3
   },
   "file_extension": ".py",
   "mimetype": "text/x-python",
   "name": "python",
   "nbconvert_exporter": "python",
   "pygments_lexer": "ipython3",
   "version": "3.8.6"
  },
  "orig_nbformat": 4,
  "vscode": {
   "interpreter": {
    "hash": "2b15235169c9761bfe59f0119712575d1c6ec6e5af49d0b309fca31b7dae5d5b"
   }
  }
 },
 "nbformat": 4,
 "nbformat_minor": 2
}
