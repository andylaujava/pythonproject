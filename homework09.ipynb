{
 "cells": [
  {
   "cell_type": "code",
   "execution_count": 1,
   "metadata": {},
   "outputs": [
    {
     "name": "stdout",
     "output_type": "stream",
     "text": [
      "王大明的成績如下:\n",
      "國文\t英文\t數學\t自然\t社會\n",
      "76\t52\t68\t97\t98\t\n"
     ]
    }
   ],
   "source": [
    "import random\n",
    "\n",
    "name=str(input(\"請輸入學生姓名:\"))\n",
    "students = []\n",
    "for i in range(1):\n",
    "    scores = []\n",
    "    for j in range(5):\n",
    "        scores.append(random.randint(50,100))\n",
    "    students.append(scores)\n",
    "print(f\"{name}的成績如下:\")\n",
    "print(\"國文\\t英文\\t數學\\t自然\\t社會\")\n",
    "for score in students:\n",
    "    for item in score:\n",
    "        print(item,end=\"\\t\")\n",
    "    print()\n"
   ]
  }
 ],
 "metadata": {
  "kernelspec": {
   "display_name": "Python 3",
   "language": "python",
   "name": "python3"
  },
  "language_info": {
   "codemirror_mode": {
    "name": "ipython",
    "version": 3
   },
   "file_extension": ".py",
   "mimetype": "text/x-python",
   "name": "python",
   "nbconvert_exporter": "python",
   "pygments_lexer": "ipython3",
   "version": "3.8.6"
  },
  "orig_nbformat": 4
 },
 "nbformat": 4,
 "nbformat_minor": 2
}
